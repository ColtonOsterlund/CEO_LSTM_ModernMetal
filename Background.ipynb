{
 "cells": [
  {
   "cell_type": "markdown",
   "id": "4699eef0",
   "metadata": {},
   "source": [
    "Machine Learning Zero to Hero: https://www.youtube.com/watch?v=VwVg9jCtqaU"
   ]
  },
  {
   "cell_type": "markdown",
   "id": "d3a44b03",
   "metadata": {},
   "source": [
    "Intuition behind RNNs: https://towardsdatascience.com/illustrated-guide-to-recurrent-neural-networks-79e5eb8049c9"
   ]
  },
  {
   "cell_type": "markdown",
   "id": "8319afc1",
   "metadata": {},
   "source": [
    "Intuition behind LSTMs and GRUs: https://towardsdatascience.com/illustrated-guide-to-lstms-and-gru-s-a-step-by-step-explanation-44e9eb85bf21"
   ]
  },
  {
   "cell_type": "markdown",
   "id": "08a92b3e",
   "metadata": {},
   "source": [
    "Put code behind it - RNN: https://iamtrask.github.io/2015/11/15/anyone-can-code-lstm/"
   ]
  },
  {
   "cell_type": "markdown",
   "id": "7cdee189",
   "metadata": {},
   "source": [
    "Put code behind it - LSTM: https://machinelearningmastery.com/how-to-develop-lstm-models-for-time-series-forecasting/"
   ]
  },
  {
   "cell_type": "markdown",
   "id": "21b0b79c",
   "metadata": {},
   "source": [
    "Put code behind it - GRU: https://pythonalgos.com/build-a-gru-rnn-in-keras/#:~:text=Here%20are%20the%20steps%20we%E2%80%99ll%20go%20through%3A%201,Fit%20the%20Model%20Test%20your%20GRU%20RNN%20Model"
   ]
  },
  {
   "cell_type": "markdown",
   "id": "6e318043",
   "metadata": {},
   "source": [
    "Generating music using an LSTM: https://towardsdatascience.com/how-to-generate-music-using-a-lstm-neural-network-in-keras-68786834d4c5\n",
    "\n",
    "Generating music using an LSTM but better: https://analyticsindiamag.com/a-hands-on-guide-to-automatic-music-generation-using-rnn/ || https://www.tensorflow.org/tutorials/audio/music_generation\n",
    "\n",
    "stacked LSTMs for music generation: https://towardsdatascience.com/lstms-for-music-generation-8b65c9671d35"
   ]
  },
  {
   "cell_type": "markdown",
   "id": "16cea52a",
   "metadata": {},
   "source": [
    "LSTM Hyperparameters:https://medium.com/geekculture/10-hyperparameters-to-keep-an-eye-on-for-your-lstm-model-and-other-tips-f0ff5b63fcd4"
   ]
  },
  {
   "cell_type": "markdown",
   "id": "0f8a94b9",
   "metadata": {},
   "source": [
    "Softmax w/ temperature: http://www.kasimte.com/2020/02/14/how-does-temperature-affect-softmax-in-machine-learning.html"
   ]
  },
  {
   "cell_type": "markdown",
   "id": "6eb0a67f",
   "metadata": {},
   "source": [
    "Topic Modeling: https://towardsdatascience.com/end-to-end-topic-modeling-in-python-latent-dirichlet-allocation-lda-35ce4ed6b3e0\n",
    "\n",
    "https://towardsdatascience.com/topic-modelling-in-python-with-spacy-and-gensim-dc8f7748bdbf"
   ]
  }
 ],
 "metadata": {
  "kernelspec": {
   "display_name": "Python 3 (ipykernel)",
   "language": "python",
   "name": "python3"
  },
  "language_info": {
   "codemirror_mode": {
    "name": "ipython",
    "version": 3
   },
   "file_extension": ".py",
   "mimetype": "text/x-python",
   "name": "python",
   "nbconvert_exporter": "python",
   "pygments_lexer": "ipython3",
   "version": "3.8.10"
  }
 },
 "nbformat": 4,
 "nbformat_minor": 5
}
